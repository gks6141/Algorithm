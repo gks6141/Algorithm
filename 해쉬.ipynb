{
 "cells": [
  {
   "cell_type": "markdown",
   "metadata": {},
   "source": [
    "#### 해쉬: 임의 값을 고정길이로 변환하는 것\n",
    "#### 해쉬 테이블: 키값의 연산에 의해 직접 접근이 가능한 데이터 구조\n",
    "#### 해싱 함수: key에 대해 산술 연산을 이용해 데이터 위치를 찾을수 있는 함수\n",
    "#### 해쉬 값 또는 해쉬 주소: key를 해싱 함수로 연산해서 해쉬 값을 알아내고, 이를 기반으로 해쉬 테이블에서 해당 key에 대한 데이터 위치를 일관성 있게 찾을 수 있음\n",
    "#### 슬롯 : 한개의 데이터를 저장할 수 있는 공간"
   ]
  },
  {
   "cell_type": "code",
   "execution_count": 8,
   "metadata": {},
   "outputs": [],
   "source": [
    "# hash table\n",
    "hash_table = list([ 0 for i in range(10)])"
   ]
  },
  {
   "cell_type": "code",
   "execution_count": 2,
   "metadata": {},
   "outputs": [
    {
     "data": {
      "text/plain": [
       "[0, 0, 0, 0, 0, 0, 0, 0, 0, 0]"
      ]
     },
     "execution_count": 2,
     "metadata": {},
     "output_type": "execute_result"
    }
   ],
   "source": [
    "hash_table"
   ]
  },
  {
   "cell_type": "code",
   "execution_count": 9,
   "metadata": {},
   "outputs": [],
   "source": [
    "def hash_func(key):\n",
    "    return key % 5\n"
   ]
  },
  {
   "cell_type": "code",
   "execution_count": 7,
   "metadata": {},
   "outputs": [
    {
     "name": "stdout",
     "output_type": "stream",
     "text": [
      "65 68 84\n",
      "65 0\n"
     ]
    }
   ],
   "source": [
    "data1= 'Andy'\n",
    "data2= 'Dave'\n",
    "data3= 'Trump'\n",
    "\n",
    "# ord(): 문자의 아스키 코드로 리턴\n",
    "print(ord(data1[0]), ord(data2[0]), ord(data3[0]))\n",
    "print(ord(data1[0]), hash_func(ord(data1[0])))"
   ]
  },
  {
   "cell_type": "code",
   "execution_count": 10,
   "metadata": {},
   "outputs": [],
   "source": [
    "# 해쉬 키값 생성 -> 해쉬 주소 생성 -> 해쉬테이블에 값을 저장\n",
    "def storage_data(data, value):\n",
    "    key= ord(data[0])\n",
    "    hash_adress=hash_func(key)\n",
    "    hash_table[hash_adress] = value"
   ]
  },
  {
   "cell_type": "code",
   "execution_count": 11,
   "metadata": {},
   "outputs": [],
   "source": [
    "storage_data('andy', '010100000')\n",
    "storage_data('dave', '010101230')\n",
    "storage_data('trump', '010000000')"
   ]
  },
  {
   "cell_type": "code",
   "execution_count": 12,
   "metadata": {},
   "outputs": [],
   "source": [
    "def get_data(data):\n",
    "    key = ord(data[0])\n",
    "    hash_adress = hash_func(key)\n",
    "    return hash_table[hash_adress]"
   ]
  },
  {
   "cell_type": "code",
   "execution_count": 14,
   "metadata": {},
   "outputs": [
    {
     "data": {
      "text/plain": [
       "'010100000'"
      ]
     },
     "execution_count": 14,
     "metadata": {},
     "output_type": "execute_result"
    }
   ],
   "source": [
    "get_data('andy')"
   ]
  },
  {
   "cell_type": "markdown",
   "metadata": {},
   "source": [
    "###### 장점\n",
    "###### - 데이터 저장/읽기 속도 빠름\n",
    "###### - 해쉬는 키에 대한 데이터가 확인이 쉬움\n",
    "###### 단점\n",
    "###### - 일반적으로 저장공간이 필요\n",
    "###### - 여러키에 해당하는 주소가 동일 할 경우 충돌을 해결하기 위한 별도 자료구조 필요\n",
    "###### 사용\n",
    "###### - 검색이 필요한 경우\n",
    "###### - 저장, 삭제, 읽기가 빈번한 경우\n",
    "###### - 캐쉬 구현"
   ]
  },
  {
   "cell_type": "code",
   "execution_count": null,
   "metadata": {},
   "outputs": [],
   "source": []
  }
 ],
 "metadata": {
  "kernelspec": {
   "display_name": "Python 3.9.7 ('base')",
   "language": "python",
   "name": "python3"
  },
  "language_info": {
   "codemirror_mode": {
    "name": "ipython",
    "version": 3
   },
   "file_extension": ".py",
   "mimetype": "text/x-python",
   "name": "python",
   "nbconvert_exporter": "python",
   "pygments_lexer": "ipython3",
   "version": "3.9.7"
  },
  "orig_nbformat": 4,
  "vscode": {
   "interpreter": {
    "hash": "f08154012ddadd8e950e6e9e035c7a7b32c136e7647e9b7c77e02eb723a8bedb"
   }
  }
 },
 "nbformat": 4,
 "nbformat_minor": 2
}
