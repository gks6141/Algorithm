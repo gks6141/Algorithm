{
 "cells": [
  {
   "cell_type": "markdown",
   "metadata": {},
   "source": [
    "공원 산책 "
   ]
  },
  {
   "cell_type": "code",
   "execution_count": 1,
   "metadata": {},
   "outputs": [],
   "source": [
    "park = [\"SOO\",\"OOO\",\"OOO\"]\n",
    "routes = [\"E 2\",\"S 2\",\"W 1\"]"
   ]
  },
  {
   "cell_type": "code",
   "execution_count": 2,
   "metadata": {},
   "outputs": [],
   "source": [
    "def solution(park, routes):\n",
    "    answer = []\n",
    "    start = []\n",
    "\n",
    "    for i in range(len(park)):\n",
    "        if 'S' in park[i]:\n",
    "            start = [i, park[i].find('S')]\n",
    "            break\n",
    "\n",
    "    for route in routes:\n",
    "        dir, move = route.split(' ')\n",
    "        move = int(move)\n",
    "\n",
    "        if dir == 'E':\n",
    "            loc = start[1] + move\n",
    "            if loc >= len(park[0]):\n",
    "                continue\n",
    "            if 'X' in park[start[0]][start[1]+1:loc+1]:\n",
    "                continue\n",
    "            else:\n",
    "                start[1] = loc\n",
    "\n",
    "        elif dir == 'W':\n",
    "            loc = start[1] - move\n",
    "            if loc < 0:\n",
    "                continue\n",
    "            if 'X' in park[start[0]][loc:start[1]]:\n",
    "                continue\n",
    "            else:\n",
    "                start[1] = loc\n",
    "\n",
    "        elif dir == 'S':\n",
    "            loc = start[0] + move\n",
    "            if loc >= len(park):\n",
    "                continue\n",
    "            if 'X' in [park[i][start[1]] for i in range(start[0]+1,loc+1)]:\n",
    "                continue\n",
    "            else:\n",
    "                start[0] = loc\n",
    "\n",
    "        elif dir == 'N':\n",
    "            loc = start[0] - move\n",
    "            if loc < 0:\n",
    "                continue\n",
    "            if 'X' in [park[i][start[1]] for i in range(loc,start[0])]:\n",
    "                continue\n",
    "            else:\n",
    "                start[0] = loc\n",
    "\n",
    "    return start"
   ]
  },
  {
   "cell_type": "code",
   "execution_count": 3,
   "metadata": {},
   "outputs": [
    {
     "data": {
      "text/plain": [
       "[2, 1]"
      ]
     },
     "execution_count": 3,
     "metadata": {},
     "output_type": "execute_result"
    }
   ],
   "source": [
    "solution(park, routes)"
   ]
  },
  {
   "cell_type": "markdown",
   "metadata": {},
   "source": [
    "카드 뭉치"
   ]
  },
  {
   "cell_type": "code",
   "execution_count": 8,
   "metadata": {},
   "outputs": [],
   "source": [
    "cards1 = [\"i\", \"drink\", \"water\"]\n",
    "cards2 = [\"want\", \"to\"]\n",
    "goal = [\"i\", \"want\", \"to\", \"drink\", \"water\"]"
   ]
  },
  {
   "cell_type": "code",
   "execution_count": 6,
   "metadata": {},
   "outputs": [],
   "source": [
    "def solution(cards1, cards2, goal):\n",
    "    answer = 'Yes'\n",
    "    \n",
    "    card1_idx, card2_idx = 0, 0\n",
    "    \n",
    "    for word in goal:\n",
    "        if len(cards1) > card1_idx and word == cards1[card1_idx]:\n",
    "            card1_idx += 1\n",
    "        elif len(cards2) > card2_idx and word == cards2[card2_idx]:\n",
    "            card2_idx += 1\n",
    "        else:\n",
    "            answer = \"No\"\n",
    "            break\n",
    "    \n",
    "    return answer"
   ]
  },
  {
   "cell_type": "code",
   "execution_count": 11,
   "metadata": {},
   "outputs": [
    {
     "data": {
      "text/plain": [
       "'Yes'"
      ]
     },
     "execution_count": 11,
     "metadata": {},
     "output_type": "execute_result"
    }
   ],
   "source": [
    "solution(cards1, cards2, goal)"
   ]
  },
  {
   "cell_type": "code",
   "execution_count": null,
   "metadata": {},
   "outputs": [],
   "source": []
  }
 ],
 "metadata": {
  "kernelspec": {
   "display_name": "Python 3.9.7 ('base')",
   "language": "python",
   "name": "python3"
  },
  "language_info": {
   "codemirror_mode": {
    "name": "ipython",
    "version": 3
   },
   "file_extension": ".py",
   "mimetype": "text/x-python",
   "name": "python",
   "nbconvert_exporter": "python",
   "pygments_lexer": "ipython3",
   "version": "3.9.7"
  },
  "orig_nbformat": 4,
  "vscode": {
   "interpreter": {
    "hash": "f08154012ddadd8e950e6e9e035c7a7b32c136e7647e9b7c77e02eb723a8bedb"
   }
  }
 },
 "nbformat": 4,
 "nbformat_minor": 2
}
