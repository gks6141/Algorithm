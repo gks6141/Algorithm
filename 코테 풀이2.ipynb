{
 "cells": [
  {
   "cell_type": "markdown",
   "metadata": {},
   "source": [
    "바탕화면 정리"
   ]
  },
  {
   "cell_type": "code",
   "execution_count": null,
   "metadata": {},
   "outputs": [],
   "source": [
    "def solution(wallpaper):\n",
    "    a = [] \n",
    "    b = []\n",
    "    for i in range(len(wallpaper)):\n",
    "        for j in range(len(wallpaper[i])):\n",
    "            if wallpaper[i][j] == '#':\n",
    "                a.append(i)\n",
    "                b.append(j)\n",
    "    x = min(a)\n",
    "    y = min(b)\n",
    "    w = max(a)+1\n",
    "    z = max(b)+1\n",
    "    answer = [x,y,w,z]\n",
    "    return answer"
   ]
  },
  {
   "cell_type": "markdown",
   "metadata": {},
   "source": [
    "덧칠하기"
   ]
  },
  {
   "cell_type": "code",
   "execution_count": 1,
   "metadata": {},
   "outputs": [],
   "source": [
    "def solution(n, m, section):\n",
    "    cnt = 0\n",
    "    while section:\n",
    "        end = section[-1] - 1\n",
    "        start = end - m + 1\n",
    "        if start < 0:\n",
    "            start, end = 0, m - 1\n",
    "        cnt += 1\n",
    "        while start <= (section[-1] - 1):\n",
    "            section.pop()\n",
    "            if not section:\n",
    "                break\n",
    "    return cnt"
   ]
  },
  {
   "cell_type": "markdown",
   "metadata": {},
   "source": [
    "대충 만든 자판"
   ]
  },
  {
   "cell_type": "code",
   "execution_count": 2,
   "metadata": {},
   "outputs": [],
   "source": [
    "keymap = [\"ABACD\", \"BCEFD\"]\n",
    "targets =[\"ABCD\",\"AABB\"]"
   ]
  },
  {
   "cell_type": "code",
   "execution_count": 47,
   "metadata": {},
   "outputs": [
    {
     "name": "stdout",
     "output_type": "stream",
     "text": [
      "[1, 3]\n",
      "[1, 1, 1, 1, 1]\n",
      "[1, 3]\n",
      "[1, 1, 1, 1, 1, 1, 1, 1, 1, 1]\n",
      "[1, 3, 2]\n",
      "[1, 1, 1, 1, 1, 1, 1, 1, 1, 1, 1, 1, 1, 1, 1]\n",
      "[1, 3, 2, 1]\n",
      "[1, 1, 1, 1, 1, 1, 1, 1, 1, 1, 1, 1, 1, 1, 1, 1, 1, 1, 1, 1]\n",
      "[1, 3, 2, 1, 4]\n",
      "[1, 1, 1, 1, 1, 1, 1, 1, 1, 1, 1, 1, 1, 1, 1, 1, 1, 1, 1, 1, 1, 1, 1, 1, 1]\n",
      "[1, 3, 2, 1, 4, 2]\n",
      "[1, 1, 1, 1, 1, 1, 1, 1, 1, 1, 1, 1, 1, 1, 1, 1, 1, 1, 1, 1, 1, 1, 1, 1, 1, 1, 1, 1, 1, 1]\n",
      "[1, 3, 2, 1, 4, 2, 5]\n",
      "[1, 1, 1, 1, 1, 1, 1, 1, 1, 1, 1, 1, 1, 1, 1, 1, 1, 1, 1, 1, 1, 1, 1, 1, 1, 1, 1, 1, 1, 1, 1, 1, 1, 1, 1]\n",
      "[1, 3, 2, 1, 4, 2, 5, 5]\n",
      "[1, 1, 1, 1, 1, 1, 1, 1, 1, 1, 1, 1, 1, 1, 1, 1, 1, 1, 1, 1, 1, 1, 1, 1, 1, 1, 1, 1, 1, 1, 1, 1, 1, 1, 1, 1, 1, 1, 1, 1]\n",
      "[1, 3, 2, 1, 4, 2, 5, 5, 1, 3]\n",
      "[1, 1, 1, 1, 1, 1, 1, 1, 1, 1, 1, 1, 1, 1, 1, 1, 1, 1, 1, 1, 1, 1, 1, 1, 1, 1, 1, 1, 1, 1, 1, 1, 1, 1, 1, 1, 1, 1, 1, 1, 1, 1, 1, 1, 1]\n",
      "[1, 3, 2, 1, 4, 2, 5, 5, 1, 3]\n",
      "[1, 1, 1, 1, 1, 1, 1, 1, 1, 1, 1, 1, 1, 1, 1, 1, 1, 1, 1, 1, 1, 1, 1, 1, 1, 1, 1, 1, 1, 1, 1, 1, 1, 1, 1, 1, 1, 1, 1, 1, 1, 1, 1, 1, 1, 1, 1, 1, 1, 1]\n",
      "[1, 3, 2, 1, 4, 2, 5, 5, 1, 3, 1, 3]\n",
      "[1, 1, 1, 1, 1, 1, 1, 1, 1, 1, 1, 1, 1, 1, 1, 1, 1, 1, 1, 1, 1, 1, 1, 1, 1, 1, 1, 1, 1, 1, 1, 1, 1, 1, 1, 1, 1, 1, 1, 1, 1, 1, 1, 1, 1, 1, 1, 1, 1, 1, 1, 1, 1, 1, 1]\n",
      "[1, 3, 2, 1, 4, 2, 5, 5, 1, 3, 1, 3]\n",
      "[1, 1, 1, 1, 1, 1, 1, 1, 1, 1, 1, 1, 1, 1, 1, 1, 1, 1, 1, 1, 1, 1, 1, 1, 1, 1, 1, 1, 1, 1, 1, 1, 1, 1, 1, 1, 1, 1, 1, 1, 1, 1, 1, 1, 1, 1, 1, 1, 1, 1, 1, 1, 1, 1, 1, 1, 1, 1, 1, 1]\n",
      "[1, 3, 2, 1, 4, 2, 5, 5, 1, 3, 1, 3, 2]\n",
      "[1, 1, 1, 1, 1, 1, 1, 1, 1, 1, 1, 1, 1, 1, 1, 1, 1, 1, 1, 1, 1, 1, 1, 1, 1, 1, 1, 1, 1, 1, 1, 1, 1, 1, 1, 1, 1, 1, 1, 1, 1, 1, 1, 1, 1, 1, 1, 1, 1, 1, 1, 1, 1, 1, 1, 1, 1, 1, 1, 1, 1, 1, 1, 1, 1]\n",
      "[1, 3, 2, 1, 4, 2, 5, 5, 1, 3, 1, 3, 2, 1]\n",
      "[1, 1, 1, 1, 1, 1, 1, 1, 1, 1, 1, 1, 1, 1, 1, 1, 1, 1, 1, 1, 1, 1, 1, 1, 1, 1, 1, 1, 1, 1, 1, 1, 1, 1, 1, 1, 1, 1, 1, 1, 1, 1, 1, 1, 1, 1, 1, 1, 1, 1, 1, 1, 1, 1, 1, 1, 1, 1, 1, 1, 1, 1, 1, 1, 1, 1, 1, 1, 1, 1]\n",
      "[1, 3, 2, 1, 4, 2, 5, 5, 1, 3, 1, 3, 2, 1, 2]\n",
      "[1, 1, 1, 1, 1, 1, 1, 1, 1, 1, 1, 1, 1, 1, 1, 1, 1, 1, 1, 1, 1, 1, 1, 1, 1, 1, 1, 1, 1, 1, 1, 1, 1, 1, 1, 1, 1, 1, 1, 1, 1, 1, 1, 1, 1, 1, 1, 1, 1, 1, 1, 1, 1, 1, 1, 1, 1, 1, 1, 1, 1, 1, 1, 1, 1, 1, 1, 1, 1, 1, 1, 1, 1, 1, 1]\n",
      "[1, 3, 2, 1, 4, 2, 5, 5, 1, 3, 1, 3, 2, 1, 2, 1]\n",
      "[1, 1, 1, 1, 1, 1, 1, 1, 1, 1, 1, 1, 1, 1, 1, 1, 1, 1, 1, 1, 1, 1, 1, 1, 1, 1, 1, 1, 1, 1, 1, 1, 1, 1, 1, 1, 1, 1, 1, 1, 1, 1, 1, 1, 1, 1, 1, 1, 1, 1, 1, 1, 1, 1, 1, 1, 1, 1, 1, 1, 1, 1, 1, 1, 1, 1, 1, 1, 1, 1, 1, 1, 1, 1, 1, 1, 1, 1, 1, 1]\n"
     ]
    }
   ],
   "source": [
    "a = []\n",
    "c = []\n",
    "for i in range(len(targets)):\n",
    "    for j in range(len(targets[i])):\n",
    "        for r in range(len(keymap)):\n",
    "            for t in range(len(keymap[r])):\n",
    "                if keymap[r][t] in targets[i][j]:\n",
    "                    \n",
    "                    a.append(t+1)   \n",
    "                    c.append(min(a))\n",
    "\n",
    "            print(a)   \n",
    "            print(c)"
   ]
  },
  {
   "cell_type": "code",
   "execution_count": 12,
   "metadata": {},
   "outputs": [
    {
     "data": {
      "text/plain": [
       "[1, 3, 2, 1, 4, 2, 5, 5, 1, 3, 1, 3, 2, 1, 2, 1]"
      ]
     },
     "execution_count": 12,
     "metadata": {},
     "output_type": "execute_result"
    }
   ],
   "source": [
    "a"
   ]
  },
  {
   "cell_type": "code",
   "execution_count": 55,
   "metadata": {},
   "outputs": [
    {
     "name": "stdout",
     "output_type": "stream",
     "text": [
      "['A', 'B', 'A', 'C', 'D']\n",
      "['B', 'C', 'E', 'F', 'D']\n"
     ]
    },
    {
     "data": {
      "text/plain": [
       "{'A': 1, 'B': 1, 'C': 2, 'D': 5, 'E': 3, 'F': 4}"
      ]
     },
     "execution_count": 55,
     "metadata": {},
     "output_type": "execute_result"
    }
   ],
   "source": [
    "\n",
    "answer = []\n",
    "keymap_re = {}\n",
    "for k in keymap:\n",
    "    k = list(k)\n",
    "    print(k)\n",
    "    for i in range(len(k)):\n",
    "        try:\n",
    "            if keymap_re[k[i]] > i+1:\n",
    "                keymap_re[k[i]] = i+1\n",
    "        except:\n",
    "            keymap_re[k[i]] = i+1\n",
    "keymap_re\n"
   ]
  },
  {
   "cell_type": "code",
   "execution_count": 52,
   "metadata": {},
   "outputs": [
    {
     "data": {
      "text/plain": [
       "{'A': 1, 'B': 1, 'C': 2, 'D': 5, 'E': 3, 'F': 4}"
      ]
     },
     "execution_count": 52,
     "metadata": {},
     "output_type": "execute_result"
    }
   ],
   "source": [
    "keymap_re "
   ]
  },
  {
   "cell_type": "code",
   "execution_count": 59,
   "metadata": {},
   "outputs": [
    {
     "name": "stdout",
     "output_type": "stream",
     "text": [
      "['A', 'B', 'C', 'D']\n",
      "A\n",
      "1\n",
      "B\n",
      "1\n",
      "C\n",
      "2\n",
      "D\n",
      "5\n",
      "9\n",
      "['A', 'A', 'B', 'B']\n",
      "A\n",
      "1\n",
      "A\n",
      "1\n",
      "B\n",
      "1\n",
      "B\n",
      "1\n",
      "4\n"
     ]
    }
   ],
   "source": [
    "            \n",
    "for t in targets:\n",
    "    t = list(t)\n",
    "    print(t)\n",
    "    _tmp = 0\n",
    "    is_fail = False\n",
    "    for tt in t:\n",
    "        try:\n",
    "            print(tt)\n",
    "            print(keymap_re[tt])\n",
    "            _tmp += keymap_re[tt]\n",
    "        except:\n",
    "            is_fail = True\n",
    "            break\n",
    "    print(_tmp)\n",
    "    if is_fail == False:\n",
    "        answer.append(_tmp)\n",
    "    else:\n",
    "        answer.append(-1)"
   ]
  },
  {
   "cell_type": "markdown",
   "metadata": {},
   "source": [
    "크기가 작은 문자열"
   ]
  },
  {
   "cell_type": "code",
   "execution_count": null,
   "metadata": {},
   "outputs": [],
   "source": [
    "# 이슈 '>=' not supported between instances of 'str' and 'int' : int(p)\n",
    "# 이슈 'builtin_function_or_method' object is not subscriptable : append[] --> append()\n",
    "def solution(t, p):\n",
    "    a= len(t)\n",
    "    b= len(p)\n",
    "    num = []\n",
    "    result = []\n",
    "    for i in range(a-b+1):\n",
    "        num.append(int(t[i:i+b]))\n",
    "    for j in num:\n",
    "        if int(p) >= j:\n",
    "            result.append(num)\n",
    "    answer = len(result)\n",
    "    return answer"
   ]
  }
 ],
 "metadata": {
  "kernelspec": {
   "display_name": "Python 3.9.7 ('base')",
   "language": "python",
   "name": "python3"
  },
  "language_info": {
   "codemirror_mode": {
    "name": "ipython",
    "version": 3
   },
   "file_extension": ".py",
   "mimetype": "text/x-python",
   "name": "python",
   "nbconvert_exporter": "python",
   "pygments_lexer": "ipython3",
   "version": "3.9.7"
  },
  "orig_nbformat": 4,
  "vscode": {
   "interpreter": {
    "hash": "f08154012ddadd8e950e6e9e035c7a7b32c136e7647e9b7c77e02eb723a8bedb"
   }
  }
 },
 "nbformat": 4,
 "nbformat_minor": 2
}
