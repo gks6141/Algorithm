{
 "cells": [
  {
   "cell_type": "markdown",
   "metadata": {},
   "source": [
    "리코쳇 로봇"
   ]
  },
  {
   "cell_type": "code",
   "execution_count": 2,
   "metadata": {},
   "outputs": [],
   "source": [
    "board = [\"...D..R\", \".D.G...\", \"....D.D\", \"D....D.\", \"..D....\"]"
   ]
  },
  {
   "cell_type": "code",
   "execution_count": 1,
   "metadata": {},
   "outputs": [],
   "source": [
    "from collections import deque\n",
    "\n",
    "def solution(board):\n",
    "    answer = 0\n",
    "    R = len(board)\n",
    "    C = len(board[0])\n",
    "    rx, ry = 0, 0\n",
    "    for i in range(R):\n",
    "        for j in range(C):\n",
    "            if board[i][j]=='R':\n",
    "                rx, ry = i, j\n",
    "                \n",
    "    dx = [-1, 1, 0, 0]\n",
    "    dy = [0, 0, -1, 1]\n",
    "    \n",
    "    def bfs():\n",
    "        q = deque()\n",
    "        q.append((rx, ry))\n",
    "        visited = [[0]*C for _ in range(R)]\n",
    "        visited[rx][ry] = 1\n",
    "        \n",
    "        while q:\n",
    "            px, py = q.popleft()\n",
    "            if board[px][py] == 'G':\n",
    "                return visited[px][py]\n",
    "            for i in range(4):\n",
    "                nx, ny = px, py\n",
    "                while True:\n",
    "                    nx, ny = nx+dx[i], ny+dy[i]\n",
    "                    if 0<=nx<R and 0<=ny<C and board[nx][ny]=='D':\n",
    "                        nx -= dx[i]\n",
    "                        ny -= dy[i]\n",
    "                        break\n",
    "                    if nx<0 or nx>=R or ny<0 or ny>=C:\n",
    "                        nx -= dx[i]\n",
    "                        ny -= dy[i]\n",
    "                        break\n",
    "                if not visited[nx][ny]:\n",
    "                    visited[nx][ny] = visited[px][py] + 1\n",
    "                    q.append((nx, ny))\n",
    "        return -1\n",
    "                    \n",
    "    answer = bfs()\n",
    "    if answer > 0:\n",
    "        answer -= 1\n",
    "        \n",
    "    return answer"
   ]
  },
  {
   "cell_type": "code",
   "execution_count": 3,
   "metadata": {},
   "outputs": [
    {
     "data": {
      "text/plain": [
       "7"
      ]
     },
     "execution_count": 3,
     "metadata": {},
     "output_type": "execute_result"
    }
   ],
   "source": [
    "solution(board)"
   ]
  },
  {
   "cell_type": "code",
   "execution_count": null,
   "metadata": {},
   "outputs": [],
   "source": []
  }
 ],
 "metadata": {
  "kernelspec": {
   "display_name": "Python 3.9.7 ('base')",
   "language": "python",
   "name": "python3"
  },
  "language_info": {
   "codemirror_mode": {
    "name": "ipython",
    "version": 3
   },
   "file_extension": ".py",
   "mimetype": "text/x-python",
   "name": "python",
   "nbconvert_exporter": "python",
   "pygments_lexer": "ipython3",
   "version": "3.9.7"
  },
  "orig_nbformat": 4,
  "vscode": {
   "interpreter": {
    "hash": "f08154012ddadd8e950e6e9e035c7a7b32c136e7647e9b7c77e02eb723a8bedb"
   }
  }
 },
 "nbformat": 4,
 "nbformat_minor": 2
}
