{
 "cells": [
  {
   "cell_type": "code",
   "execution_count": 1,
   "metadata": {},
   "outputs": [],
   "source": [
    "picks = [1,3,2]\n",
    "minerals = [\"diamond\", \"diamond\", \"diamond\", \"iron\", \"iron\", \"diamond\", \"iron\", \"stone\"]"
   ]
  },
  {
   "cell_type": "code",
   "execution_count": 2,
   "metadata": {},
   "outputs": [],
   "source": [
    "def solution(picks, minerals):\n",
    "    sum = 0\n",
    "    for x in picks:\n",
    "        sum += x\n",
    "    \n",
    "    num_min = sum * 5\n",
    "    if len(minerals) > num_min: \n",
    "        minerals = minerals[:num_min]\n",
    "        \n",
    "    cnt_min = [[0, 0, 0]for x in range(10)] \n",
    "    for i in range(len(minerals)):\n",
    "        if minerals[i] == 'diamond': \n",
    "            cnt_min[i//5][0] += 1\n",
    "        elif minerals[i] == 'iron': \n",
    "            cnt_min[i//5][1] += 1\n",
    "        else : \n",
    "            cnt_min[i//5][2] += 1\n",
    "\n",
    "    sorted_cnt_min = sorted(cnt_min, key = lambda x: (-x[0], -x[1], -x[2]))\n",
    "    \n",
    "    answer = 0\n",
    "    for mineral in sorted_cnt_min:\n",
    "        d, i, s = mineral\n",
    "        for p in range(len(picks)):\n",
    "            if p == 0 and picks[p]>0:\n",
    "                picks[p]-=1\n",
    "                answer += d + i + s\n",
    "                break\n",
    "            elif p == 1 and picks[p]>0:\n",
    "                picks[p]-=1\n",
    "                answer += 5*d + i + s\n",
    "                break\n",
    "            elif p == 2 and picks[p]>0:\n",
    "                picks[p]-=1\n",
    "                answer += 25*d + 5*i + s\n",
    "                break\n",
    "                \n",
    "    return answer"
   ]
  },
  {
   "cell_type": "code",
   "execution_count": 3,
   "metadata": {},
   "outputs": [
    {
     "data": {
      "text/plain": [
       "12"
      ]
     },
     "execution_count": 3,
     "metadata": {},
     "output_type": "execute_result"
    }
   ],
   "source": [
    "solution(picks, minerals)"
   ]
  },
  {
   "cell_type": "code",
   "execution_count": null,
   "metadata": {},
   "outputs": [],
   "source": []
  }
 ],
 "metadata": {
  "kernelspec": {
   "display_name": "Python 3.9.7 ('base')",
   "language": "python",
   "name": "python3"
  },
  "language_info": {
   "codemirror_mode": {
    "name": "ipython",
    "version": 3
   },
   "file_extension": ".py",
   "mimetype": "text/x-python",
   "name": "python",
   "nbconvert_exporter": "python",
   "pygments_lexer": "ipython3",
   "version": "3.9.7"
  },
  "orig_nbformat": 4,
  "vscode": {
   "interpreter": {
    "hash": "f08154012ddadd8e950e6e9e035c7a7b32c136e7647e9b7c77e02eb723a8bedb"
   }
  }
 },
 "nbformat": 4,
 "nbformat_minor": 2
}
