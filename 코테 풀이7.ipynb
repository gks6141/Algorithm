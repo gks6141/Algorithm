{
 "cells": [
  {
   "cell_type": "markdown",
   "metadata": {},
   "source": [
    "키패드 누르기"
   ]
  },
  {
   "cell_type": "code",
   "execution_count": 2,
   "metadata": {},
   "outputs": [],
   "source": [
    "numbers = [1, 3, 4, 5, 8, 2, 1, 4, 5, 9, 5]\n",
    "hand = \"right\""
   ]
  },
  {
   "cell_type": "code",
   "execution_count": 1,
   "metadata": {},
   "outputs": [],
   "source": [
    "def solution(numbers, hand):\n",
    "    answer = ''\n",
    "\n",
    "    dic = {1: [0, 0], 2: [0, 1], 3: [0, 2],\n",
    "           4: [1, 0], 5: [1, 1], 6: [1, 2],\n",
    "           7: [2, 0], 8: [2, 1], 9: [2, 2],\n",
    "           '*':[3, 0], 0: [3, 1], '#': [3, 2]}\n",
    "    \n",
    "    left_s = dic['*']\n",
    "    right_s = dic['#']\n",
    "    \n",
    "    for i in numbers:\n",
    "        now = dic[i]\n",
    "        if i in [1, 4, 7]:\n",
    "            answer += 'L'\n",
    "            left_s = now\n",
    "\n",
    "        elif i in [3, 6, 9]:\n",
    "            answer += 'R'\n",
    "            right_s = now\n",
    "\n",
    "        else:\n",
    "            left_d = 0\n",
    "            right_d = 0\n",
    "\n",
    "            for a, b, c in zip(left_s, right_s, now):\n",
    "                left_d += abs(a-c)\n",
    "                right_d += abs(b-c)\n",
    "\n",
    "            if left_d < right_d:\n",
    "                answer += 'L'\n",
    "                left_s = now\n",
    "\n",
    "            elif left_d > right_d:\n",
    "                answer += 'R'\n",
    "                right_s = now\n",
    "            \n",
    "\n",
    "            else:\n",
    "                if hand == 'left':\n",
    "                    answer += 'L'\n",
    "                    left_s = now\n",
    "\n",
    "                else:\n",
    "                    answer += 'R'\n",
    "                    right_s = now\n",
    "            "
   ]
  },
  {
   "cell_type": "code",
   "execution_count": 3,
   "metadata": {},
   "outputs": [],
   "source": [
    "solution(numbers, hand)"
   ]
  },
  {
   "cell_type": "code",
   "execution_count": null,
   "metadata": {},
   "outputs": [],
   "source": []
  }
 ],
 "metadata": {
  "kernelspec": {
   "display_name": "Python 3.9.7 ('base')",
   "language": "python",
   "name": "python3"
  },
  "language_info": {
   "codemirror_mode": {
    "name": "ipython",
    "version": 3
   },
   "file_extension": ".py",
   "mimetype": "text/x-python",
   "name": "python",
   "nbconvert_exporter": "python",
   "pygments_lexer": "ipython3",
   "version": "3.9.7"
  },
  "orig_nbformat": 4,
  "vscode": {
   "interpreter": {
    "hash": "f08154012ddadd8e950e6e9e035c7a7b32c136e7647e9b7c77e02eb723a8bedb"
   }
  }
 },
 "nbformat": 4,
 "nbformat_minor": 2
}
