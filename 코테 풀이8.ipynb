{
 "cells": [
  {
   "cell_type": "markdown",
   "metadata": {},
   "source": [
    "연속된 수열의 합"
   ]
  },
  {
   "cell_type": "code",
   "execution_count": 3,
   "metadata": {},
   "outputs": [],
   "source": [
    "sequence = [1, 2, 3, 4, 5]\n",
    "k = 7"
   ]
  },
  {
   "cell_type": "code",
   "execution_count": 1,
   "metadata": {},
   "outputs": [],
   "source": [
    "from collections import deque\n",
    "\n",
    "\n",
    "def solution(sequence, k):\n",
    "    answer = []\n",
    "    sequence += [0]\n",
    "\n",
    "    q = deque()\n",
    "    sum = 0\n",
    "    start, end = 0, 0\n",
    "    result = len(sequence)\n",
    "    for i in range(len(sequence)):\n",
    "        while sum > k:\n",
    "            temp = q.popleft()\n",
    "            sum -= temp\n",
    "            start += 1\n",
    "        if sum == k and end - start < result:\n",
    "            answer = [start, end]\n",
    "            result = end - start\n",
    "\n",
    "        q.append(sequence[i])\n",
    "        sum += sequence[i]\n",
    "        end = i\n",
    "\n",
    "    return answer"
   ]
  },
  {
   "cell_type": "code",
   "execution_count": 4,
   "metadata": {},
   "outputs": [
    {
     "data": {
      "text/plain": [
       "[2, 3]"
      ]
     },
     "execution_count": 4,
     "metadata": {},
     "output_type": "execute_result"
    }
   ],
   "source": [
    "solution(sequence, k)"
   ]
  },
  {
   "cell_type": "markdown",
   "metadata": {},
   "source": [
    "당구 연습"
   ]
  },
  {
   "cell_type": "code",
   "execution_count": 5,
   "metadata": {},
   "outputs": [],
   "source": [
    "m = 10\n",
    "n = 10 \n",
    "startX = 3\n",
    "startY = 7\n",
    "balls = [[7, 7], [2, 7], [7, 3]]"
   ]
  },
  {
   "cell_type": "code",
   "execution_count": 7,
   "metadata": {},
   "outputs": [],
   "source": [
    "def solution(m, n, startX, startY, balls):\n",
    "    answer = []\n",
    "    for ball in balls:\n",
    "        diffX = startX-ball[0] \n",
    "        diffY = startY-ball[1] \n",
    "        \n",
    "        left = (startX+ball[0])**2 + (diffY**2)          \n",
    "        right = ((m-startX)+(m-ball[0]))**2 + (diffY**2) \n",
    "        top = (diffX**2) + ((n-startY)+(n-ball[1]))**2   \n",
    "        bottom = (diffX**2) + (startY+ball[1])**2        \n",
    "        \n",
    "        if diffX == 0: \n",
    "            if diffY > 0: \n",
    "                res = min(left, right, top)        \n",
    "            else : # 위쪽 방향 쿠션 안됨\n",
    "                res = min(left, right, bottom)    \n",
    "                \n",
    "        elif diffY == 0: \n",
    "            if diffX > 0: \n",
    "                res = min(right, top, bottom)        \n",
    "            else :\n",
    "                res = min(left, top, bottom)      \n",
    "                \n",
    "        else:\n",
    "            res = min(left, right, top, bottom)\n",
    "\n",
    "        answer.append(res)\n",
    "    return answer"
   ]
  },
  {
   "cell_type": "code",
   "execution_count": 8,
   "metadata": {},
   "outputs": [
    {
     "data": {
      "text/plain": [
       "[52, 37, 116]"
      ]
     },
     "execution_count": 8,
     "metadata": {},
     "output_type": "execute_result"
    }
   ],
   "source": [
    "solution(m, n, startX, startY, balls)"
   ]
  },
  {
   "cell_type": "code",
   "execution_count": null,
   "metadata": {},
   "outputs": [],
   "source": []
  }
 ],
 "metadata": {
  "kernelspec": {
   "display_name": "Python 3.9.7 ('base')",
   "language": "python",
   "name": "python3"
  },
  "language_info": {
   "codemirror_mode": {
    "name": "ipython",
    "version": 3
   },
   "file_extension": ".py",
   "mimetype": "text/x-python",
   "name": "python",
   "nbconvert_exporter": "python",
   "pygments_lexer": "ipython3",
   "version": "3.9.7"
  },
  "orig_nbformat": 4,
  "vscode": {
   "interpreter": {
    "hash": "f08154012ddadd8e950e6e9e035c7a7b32c136e7647e9b7c77e02eb723a8bedb"
   }
  }
 },
 "nbformat": 4,
 "nbformat_minor": 2
}
