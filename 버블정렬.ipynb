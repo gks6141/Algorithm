{
 "cells": [
  {
   "cell_type": "markdown",
   "metadata": {},
   "source": [
    "## 버블 정렬 (bubble sort) "
   ]
  },
  {
   "cell_type": "markdown",
   "metadata": {},
   "source": [
    "### 정렬 (sorting)\n",
    "- 정렬 (sorting): 어떤 데이터들이 주어졌을 때 이를 정해진 순서대로 나열하는 것\n",
    "- 정렬은 프로그램 작성시 빈번하게 필요로 함\n",
    "- 다양한 알고리즘이 고안되었으며, 알고리즘 학습의 필수\n",
    "\n",
    "다양한 정렬 알고리즘 이해를 통해, 동일한 문제에 대해 다양한 알고리즘이 고안될 수 있음을 이해하고,\n",
    "각 알고리즘간 성능 비교를 통해, 알고리즘 성능 분석에 대해서도 이해할 수 있음"
   ]
  },
  {
   "cell_type": "markdown",
   "metadata": {},
   "source": [
    "### 버블 정렬 (bubble sort) 란?\n",
    "* 두 인접한 데이터를 비교해서, 앞에 있는 데이터가 뒤에 있는 데이터보다 크면, 자리를 바꾸는 정렬 알고리즘\n"
   ]
  },
  {
   "cell_type": "markdown",
   "metadata": {},
   "source": [
    "* 데이터가 네 개 일때 \n",
    "  - 예: data_list = [1, 9, 3, 2]\n",
    "    - 1차 로직 적용\n",
    "      - 1 와 9 비교, 자리바꿈없음 [1, 9, 3, 2]\n",
    "      - 9 와 3 비교, 자리바꿈 [1, 3, 9, 2]\n",
    "      - 9 와 2 비교, 자리바꿈 [1, 3, 2, 9]\n",
    "    - 2차 로직 적용\n",
    "      - 1 와 3 비교, 자리바꿈없음 [1, 3, 2, 9]\n",
    "      - 3 과 2 비교, 자리바꿈 [1, 2, 3, 9]\n",
    "      - 3 와 9 비교, 자리바꿈없음 [1, 2, 3, 9]\n",
    "    - 3차 로직 적용\n",
    "      - 1 과 2 비교, 자리바꿈없음 [1, 2, 3, 9]\n",
    "      - 2 과 3 비교, 자리바꿈없음 [1, 2, 3, 9]\n",
    "      - 3 과 9 비교, 자리바꿈없음 [1, 2, 3, 9]"
   ]
  },
  {
   "cell_type": "markdown",
   "metadata": {
    "collapsed": true
   },
   "source": [
    "### 알고리즘 구현\n",
    "* 특이점\n",
    "  - n개의 리스트가 있는 경우 최대 n-1번의 로직을 적용\n",
    "  - 로직을 1번 적용할 때마다 가장 큰 숫자가 뒤에서부터 1개씩 결정\n",
    "  - 로직이 경우에 따라 일찍 끝날 수도 있다. 따라서 로직을 적용할 때 한 번도 데이터가 교환된 적이 없다면 이미 정렬된 상태이므로 더 이상 로직을 반복 적용할 필요가 없음"
   ]
  },
  {
   "cell_type": "code",
   "execution_count": null,
   "metadata": {},
   "outputs": [],
   "source": [
    "def bubblesort(data):\n",
    "    for index in range(len(data) - 1):\n",
    "        swap = False\n",
    "        for index2 in range(len(data) - index - 1):\n",
    "            if data[index2] > data[index2 + 1]:\n",
    "                data[index2], data[index2 + 1] = data[index2 + 1], data[index2]\n",
    "                swap = True\n",
    "        \n",
    "        if swap == False:\n",
    "            break\n",
    "    return data"
   ]
  },
  {
   "cell_type": "code",
   "execution_count": null,
   "metadata": {},
   "outputs": [],
   "source": [
    "import random\n",
    "\n",
    "data_list = random.sample(range(100), 50)\n",
    "print (bubblesort(data_list))"
   ]
  }
 ],
 "metadata": {
  "kernelspec": {
   "display_name": "Python 3",
   "language": "python",
   "name": "python3"
  },
  "language_info": {
   "codemirror_mode": {
    "name": "ipython",
    "version": 3
   },
   "file_extension": ".py",
   "mimetype": "text/x-python",
   "name": "python",
   "nbconvert_exporter": "python",
   "pygments_lexer": "ipython3",
   "version": "3.7.2"
  },
  "nbTranslate": {
   "displayLangs": [
    "*"
   ],
   "hotkey": "alt-t",
   "langInMainMenu": true,
   "sourceLang": "en",
   "targetLang": "fr",
   "useGoogleTranslate": true
  }
 },
 "nbformat": 4,
 "nbformat_minor": 1
}
